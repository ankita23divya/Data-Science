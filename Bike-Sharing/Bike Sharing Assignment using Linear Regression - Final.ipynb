{
 "cells": [
  {
   "cell_type": "markdown",
   "metadata": {},
   "source": [
    "## Problem Statement\n",
    "BoomBikes - A bike-sharing system service, have contracted a consulting company to understand the factors on which the demand for these shared bikes depends. Specifically, they want to understand the factors affecting the demand for these shared bikes in the American market. The company wants to know:\n",
    "\n",
    "- Which variables are significant in predicting the demand for shared bikes.\n",
    "- How well those variables describe the bike demands"
   ]
  },
  {
   "cell_type": "markdown",
   "metadata": {},
   "source": [
    "## Business Goal:\n",
    "We are required to model the demand for shared bikes with the available independent variables. It will be used by the management to understand how exactly the demands vary with different features. They can accordingly manipulate the business strategy to meet the demand levels and meet the customer's expectations. Further, the model will be a good way for management to understand the demand dynamics of a new market. "
   ]
  },
  {
   "cell_type": "code",
   "execution_count": 1,
   "metadata": {},
   "outputs": [],
   "source": [
    "#importing the warnings library\n",
    "import warnings\n",
    "\n",
    "warnings.filterwarnings('ignore')"
   ]
  },
  {
   "cell_type": "code",
   "execution_count": 2,
   "metadata": {},
   "outputs": [],
   "source": [
    "#importing the other required libraries\n",
    "\n",
    "import numpy as np\n",
    "import pandas as pd\n",
    "import seaborn as sns\n",
    "import matplotlib.pyplot as plt\n",
    "import scipy as sp\n",
    "import statsmodels.tsa.api as smt\n",
    "%matplotlib inline\n"
   ]
  },
  {
   "cell_type": "code",
   "execution_count": 3,
   "metadata": {},
   "outputs": [],
   "source": [
    "### Loading the data set :"
   ]
  },
  {
   "cell_type": "code",
   "execution_count": 4,
   "metadata": {},
   "outputs": [],
   "source": [
    "boombikes = pd.read_csv(\"day.csv\")"
   ]
  },
  {
   "cell_type": "markdown",
   "metadata": {},
   "source": [
    "# 1. Data Understanding and Exploration"
   ]
  },
  {
   "cell_type": "code",
   "execution_count": 5,
   "metadata": {},
   "outputs": [
    {
     "data": {
      "text/html": [
       "<div>\n",
       "<style scoped>\n",
       "    .dataframe tbody tr th:only-of-type {\n",
       "        vertical-align: middle;\n",
       "    }\n",
       "\n",
       "    .dataframe tbody tr th {\n",
       "        vertical-align: top;\n",
       "    }\n",
       "\n",
       "    .dataframe thead th {\n",
       "        text-align: right;\n",
       "    }\n",
       "</style>\n",
       "<table border=\"1\" class=\"dataframe\">\n",
       "  <thead>\n",
       "    <tr style=\"text-align: right;\">\n",
       "      <th></th>\n",
       "      <th>instant</th>\n",
       "      <th>dteday</th>\n",
       "      <th>season</th>\n",
       "      <th>yr</th>\n",
       "      <th>mnth</th>\n",
       "      <th>holiday</th>\n",
       "      <th>weekday</th>\n",
       "      <th>workingday</th>\n",
       "      <th>weathersit</th>\n",
       "      <th>temp</th>\n",
       "      <th>atemp</th>\n",
       "      <th>hum</th>\n",
       "      <th>windspeed</th>\n",
       "      <th>casual</th>\n",
       "      <th>registered</th>\n",
       "      <th>cnt</th>\n",
       "    </tr>\n",
       "  </thead>\n",
       "  <tbody>\n",
       "    <tr>\n",
       "      <th>0</th>\n",
       "      <td>1</td>\n",
       "      <td>01-01-2018</td>\n",
       "      <td>1</td>\n",
       "      <td>0</td>\n",
       "      <td>1</td>\n",
       "      <td>0</td>\n",
       "      <td>1</td>\n",
       "      <td>1</td>\n",
       "      <td>2</td>\n",
       "      <td>14.110847</td>\n",
       "      <td>18.18125</td>\n",
       "      <td>80.5833</td>\n",
       "      <td>10.749882</td>\n",
       "      <td>331</td>\n",
       "      <td>654</td>\n",
       "      <td>985</td>\n",
       "    </tr>\n",
       "    <tr>\n",
       "      <th>1</th>\n",
       "      <td>2</td>\n",
       "      <td>02-01-2018</td>\n",
       "      <td>1</td>\n",
       "      <td>0</td>\n",
       "      <td>1</td>\n",
       "      <td>0</td>\n",
       "      <td>2</td>\n",
       "      <td>1</td>\n",
       "      <td>2</td>\n",
       "      <td>14.902598</td>\n",
       "      <td>17.68695</td>\n",
       "      <td>69.6087</td>\n",
       "      <td>16.652113</td>\n",
       "      <td>131</td>\n",
       "      <td>670</td>\n",
       "      <td>801</td>\n",
       "    </tr>\n",
       "    <tr>\n",
       "      <th>2</th>\n",
       "      <td>3</td>\n",
       "      <td>03-01-2018</td>\n",
       "      <td>1</td>\n",
       "      <td>0</td>\n",
       "      <td>1</td>\n",
       "      <td>0</td>\n",
       "      <td>3</td>\n",
       "      <td>1</td>\n",
       "      <td>1</td>\n",
       "      <td>8.050924</td>\n",
       "      <td>9.47025</td>\n",
       "      <td>43.7273</td>\n",
       "      <td>16.636703</td>\n",
       "      <td>120</td>\n",
       "      <td>1229</td>\n",
       "      <td>1349</td>\n",
       "    </tr>\n",
       "    <tr>\n",
       "      <th>3</th>\n",
       "      <td>4</td>\n",
       "      <td>04-01-2018</td>\n",
       "      <td>1</td>\n",
       "      <td>0</td>\n",
       "      <td>1</td>\n",
       "      <td>0</td>\n",
       "      <td>4</td>\n",
       "      <td>1</td>\n",
       "      <td>1</td>\n",
       "      <td>8.200000</td>\n",
       "      <td>10.60610</td>\n",
       "      <td>59.0435</td>\n",
       "      <td>10.739832</td>\n",
       "      <td>108</td>\n",
       "      <td>1454</td>\n",
       "      <td>1562</td>\n",
       "    </tr>\n",
       "    <tr>\n",
       "      <th>4</th>\n",
       "      <td>5</td>\n",
       "      <td>05-01-2018</td>\n",
       "      <td>1</td>\n",
       "      <td>0</td>\n",
       "      <td>1</td>\n",
       "      <td>0</td>\n",
       "      <td>5</td>\n",
       "      <td>1</td>\n",
       "      <td>1</td>\n",
       "      <td>9.305237</td>\n",
       "      <td>11.46350</td>\n",
       "      <td>43.6957</td>\n",
       "      <td>12.522300</td>\n",
       "      <td>82</td>\n",
       "      <td>1518</td>\n",
       "      <td>1600</td>\n",
       "    </tr>\n",
       "  </tbody>\n",
       "</table>\n",
       "</div>"
      ],
      "text/plain": [
       "   instant      dteday  season  yr  mnth  holiday  weekday  workingday  \\\n",
       "0        1  01-01-2018       1   0     1        0        1           1   \n",
       "1        2  02-01-2018       1   0     1        0        2           1   \n",
       "2        3  03-01-2018       1   0     1        0        3           1   \n",
       "3        4  04-01-2018       1   0     1        0        4           1   \n",
       "4        5  05-01-2018       1   0     1        0        5           1   \n",
       "\n",
       "   weathersit       temp     atemp      hum  windspeed  casual  registered  \\\n",
       "0           2  14.110847  18.18125  80.5833  10.749882     331         654   \n",
       "1           2  14.902598  17.68695  69.6087  16.652113     131         670   \n",
       "2           1   8.050924   9.47025  43.7273  16.636703     120        1229   \n",
       "3           1   8.200000  10.60610  59.0435  10.739832     108        1454   \n",
       "4           1   9.305237  11.46350  43.6957  12.522300      82        1518   \n",
       "\n",
       "    cnt  \n",
       "0   985  \n",
       "1   801  \n",
       "2  1349  \n",
       "3  1562  \n",
       "4  1600  "
      ]
     },
     "execution_count": 5,
     "metadata": {},
     "output_type": "execute_result"
    }
   ],
   "source": [
    "# Viewing first 5 rows of dataframe\n",
    "boombikes.head()"
   ]
  },
  {
   "cell_type": "code",
   "execution_count": 6,
   "metadata": {},
   "outputs": [
    {
     "data": {
      "text/plain": [
       "(730, 16)"
      ]
     },
     "execution_count": 6,
     "metadata": {},
     "output_type": "execute_result"
    }
   ],
   "source": [
    "# Checking the shape of the 'app' dataframe\n",
    "boombikes.shape\n"
   ]
  },
  {
   "cell_type": "code",
   "execution_count": 7,
   "metadata": {},
   "outputs": [
    {
     "name": "stdout",
     "output_type": "stream",
     "text": [
      "<class 'pandas.core.frame.DataFrame'>\n",
      "RangeIndex: 730 entries, 0 to 729\n",
      "Data columns (total 16 columns):\n",
      " #   Column      Non-Null Count  Dtype  \n",
      "---  ------      --------------  -----  \n",
      " 0   instant     730 non-null    int64  \n",
      " 1   dteday      730 non-null    object \n",
      " 2   season      730 non-null    int64  \n",
      " 3   yr          730 non-null    int64  \n",
      " 4   mnth        730 non-null    int64  \n",
      " 5   holiday     730 non-null    int64  \n",
      " 6   weekday     730 non-null    int64  \n",
      " 7   workingday  730 non-null    int64  \n",
      " 8   weathersit  730 non-null    int64  \n",
      " 9   temp        730 non-null    float64\n",
      " 10  atemp       730 non-null    float64\n",
      " 11  hum         730 non-null    float64\n",
      " 12  windspeed   730 non-null    float64\n",
      " 13  casual      730 non-null    int64  \n",
      " 14  registered  730 non-null    int64  \n",
      " 15  cnt         730 non-null    int64  \n",
      "dtypes: float64(4), int64(11), object(1)\n",
      "memory usage: 91.4+ KB\n"
     ]
    }
   ],
   "source": [
    "# Checking the different columns/variables and their data types \n",
    "boombikes.info(verbose=True)"
   ]
  },
  {
   "cell_type": "code",
   "execution_count": 8,
   "metadata": {},
   "outputs": [
    {
     "data": {
      "text/html": [
       "<div>\n",
       "<style scoped>\n",
       "    .dataframe tbody tr th:only-of-type {\n",
       "        vertical-align: middle;\n",
       "    }\n",
       "\n",
       "    .dataframe tbody tr th {\n",
       "        vertical-align: top;\n",
       "    }\n",
       "\n",
       "    .dataframe thead th {\n",
       "        text-align: right;\n",
       "    }\n",
       "</style>\n",
       "<table border=\"1\" class=\"dataframe\">\n",
       "  <thead>\n",
       "    <tr style=\"text-align: right;\">\n",
       "      <th></th>\n",
       "      <th>instant</th>\n",
       "      <th>season</th>\n",
       "      <th>yr</th>\n",
       "      <th>mnth</th>\n",
       "      <th>holiday</th>\n",
       "      <th>weekday</th>\n",
       "      <th>workingday</th>\n",
       "      <th>weathersit</th>\n",
       "      <th>casual</th>\n",
       "      <th>registered</th>\n",
       "      <th>cnt</th>\n",
       "    </tr>\n",
       "  </thead>\n",
       "  <tbody>\n",
       "    <tr>\n",
       "      <th>0</th>\n",
       "      <td>1</td>\n",
       "      <td>1</td>\n",
       "      <td>0</td>\n",
       "      <td>1</td>\n",
       "      <td>0</td>\n",
       "      <td>1</td>\n",
       "      <td>1</td>\n",
       "      <td>2</td>\n",
       "      <td>331</td>\n",
       "      <td>654</td>\n",
       "      <td>985</td>\n",
       "    </tr>\n",
       "    <tr>\n",
       "      <th>1</th>\n",
       "      <td>2</td>\n",
       "      <td>1</td>\n",
       "      <td>0</td>\n",
       "      <td>1</td>\n",
       "      <td>0</td>\n",
       "      <td>2</td>\n",
       "      <td>1</td>\n",
       "      <td>2</td>\n",
       "      <td>131</td>\n",
       "      <td>670</td>\n",
       "      <td>801</td>\n",
       "    </tr>\n",
       "    <tr>\n",
       "      <th>2</th>\n",
       "      <td>3</td>\n",
       "      <td>1</td>\n",
       "      <td>0</td>\n",
       "      <td>1</td>\n",
       "      <td>0</td>\n",
       "      <td>3</td>\n",
       "      <td>1</td>\n",
       "      <td>1</td>\n",
       "      <td>120</td>\n",
       "      <td>1229</td>\n",
       "      <td>1349</td>\n",
       "    </tr>\n",
       "    <tr>\n",
       "      <th>3</th>\n",
       "      <td>4</td>\n",
       "      <td>1</td>\n",
       "      <td>0</td>\n",
       "      <td>1</td>\n",
       "      <td>0</td>\n",
       "      <td>4</td>\n",
       "      <td>1</td>\n",
       "      <td>1</td>\n",
       "      <td>108</td>\n",
       "      <td>1454</td>\n",
       "      <td>1562</td>\n",
       "    </tr>\n",
       "    <tr>\n",
       "      <th>4</th>\n",
       "      <td>5</td>\n",
       "      <td>1</td>\n",
       "      <td>0</td>\n",
       "      <td>1</td>\n",
       "      <td>0</td>\n",
       "      <td>5</td>\n",
       "      <td>1</td>\n",
       "      <td>1</td>\n",
       "      <td>82</td>\n",
       "      <td>1518</td>\n",
       "      <td>1600</td>\n",
       "    </tr>\n",
       "  </tbody>\n",
       "</table>\n",
       "</div>"
      ],
      "text/plain": [
       "   instant  season  yr  mnth  holiday  weekday  workingday  weathersit  \\\n",
       "0        1       1   0     1        0        1           1           2   \n",
       "1        2       1   0     1        0        2           1           2   \n",
       "2        3       1   0     1        0        3           1           1   \n",
       "3        4       1   0     1        0        4           1           1   \n",
       "4        5       1   0     1        0        5           1           1   \n",
       "\n",
       "   casual  registered   cnt  \n",
       "0     331         654   985  \n",
       "1     131         670   801  \n",
       "2     120        1229  1349  \n",
       "3     108        1454  1562  \n",
       "4      82        1518  1600  "
      ]
     },
     "execution_count": 8,
     "metadata": {},
     "output_type": "execute_result"
    }
   ],
   "source": [
    "# Displaying numeric data types\n",
    "boombikes.select_dtypes('int64', 'float64').head(5)"
   ]
  },
  {
   "cell_type": "code",
   "execution_count": 9,
   "metadata": {},
   "outputs": [
    {
     "data": {
      "text/html": [
       "<div>\n",
       "<style scoped>\n",
       "    .dataframe tbody tr th:only-of-type {\n",
       "        vertical-align: middle;\n",
       "    }\n",
       "\n",
       "    .dataframe tbody tr th {\n",
       "        vertical-align: top;\n",
       "    }\n",
       "\n",
       "    .dataframe thead th {\n",
       "        text-align: right;\n",
       "    }\n",
       "</style>\n",
       "<table border=\"1\" class=\"dataframe\">\n",
       "  <thead>\n",
       "    <tr style=\"text-align: right;\">\n",
       "      <th></th>\n",
       "      <th>instant</th>\n",
       "      <th>season</th>\n",
       "      <th>yr</th>\n",
       "      <th>mnth</th>\n",
       "      <th>holiday</th>\n",
       "      <th>weekday</th>\n",
       "      <th>workingday</th>\n",
       "      <th>weathersit</th>\n",
       "      <th>temp</th>\n",
       "      <th>atemp</th>\n",
       "      <th>hum</th>\n",
       "      <th>windspeed</th>\n",
       "      <th>casual</th>\n",
       "      <th>registered</th>\n",
       "      <th>cnt</th>\n",
       "    </tr>\n",
       "  </thead>\n",
       "  <tbody>\n",
       "    <tr>\n",
       "      <th>count</th>\n",
       "      <td>730.000000</td>\n",
       "      <td>730.000000</td>\n",
       "      <td>730.000000</td>\n",
       "      <td>730.000000</td>\n",
       "      <td>730.000000</td>\n",
       "      <td>730.000000</td>\n",
       "      <td>730.000000</td>\n",
       "      <td>730.000000</td>\n",
       "      <td>730.000000</td>\n",
       "      <td>730.000000</td>\n",
       "      <td>730.000000</td>\n",
       "      <td>730.000000</td>\n",
       "      <td>730.000000</td>\n",
       "      <td>730.000000</td>\n",
       "      <td>730.000000</td>\n",
       "    </tr>\n",
       "    <tr>\n",
       "      <th>mean</th>\n",
       "      <td>365.500000</td>\n",
       "      <td>2.498630</td>\n",
       "      <td>0.500000</td>\n",
       "      <td>6.526027</td>\n",
       "      <td>0.028767</td>\n",
       "      <td>2.995890</td>\n",
       "      <td>0.690411</td>\n",
       "      <td>1.394521</td>\n",
       "      <td>20.319259</td>\n",
       "      <td>23.726322</td>\n",
       "      <td>62.765175</td>\n",
       "      <td>12.763620</td>\n",
       "      <td>849.249315</td>\n",
       "      <td>3658.757534</td>\n",
       "      <td>4508.006849</td>\n",
       "    </tr>\n",
       "    <tr>\n",
       "      <th>std</th>\n",
       "      <td>210.877136</td>\n",
       "      <td>1.110184</td>\n",
       "      <td>0.500343</td>\n",
       "      <td>3.450215</td>\n",
       "      <td>0.167266</td>\n",
       "      <td>2.000339</td>\n",
       "      <td>0.462641</td>\n",
       "      <td>0.544807</td>\n",
       "      <td>7.506729</td>\n",
       "      <td>8.150308</td>\n",
       "      <td>14.237589</td>\n",
       "      <td>5.195841</td>\n",
       "      <td>686.479875</td>\n",
       "      <td>1559.758728</td>\n",
       "      <td>1936.011647</td>\n",
       "    </tr>\n",
       "    <tr>\n",
       "      <th>min</th>\n",
       "      <td>1.000000</td>\n",
       "      <td>1.000000</td>\n",
       "      <td>0.000000</td>\n",
       "      <td>1.000000</td>\n",
       "      <td>0.000000</td>\n",
       "      <td>0.000000</td>\n",
       "      <td>0.000000</td>\n",
       "      <td>1.000000</td>\n",
       "      <td>2.424346</td>\n",
       "      <td>3.953480</td>\n",
       "      <td>0.000000</td>\n",
       "      <td>1.500244</td>\n",
       "      <td>2.000000</td>\n",
       "      <td>20.000000</td>\n",
       "      <td>22.000000</td>\n",
       "    </tr>\n",
       "    <tr>\n",
       "      <th>25%</th>\n",
       "      <td>183.250000</td>\n",
       "      <td>2.000000</td>\n",
       "      <td>0.000000</td>\n",
       "      <td>4.000000</td>\n",
       "      <td>0.000000</td>\n",
       "      <td>1.000000</td>\n",
       "      <td>0.000000</td>\n",
       "      <td>1.000000</td>\n",
       "      <td>13.811885</td>\n",
       "      <td>16.889713</td>\n",
       "      <td>52.000000</td>\n",
       "      <td>9.041650</td>\n",
       "      <td>316.250000</td>\n",
       "      <td>2502.250000</td>\n",
       "      <td>3169.750000</td>\n",
       "    </tr>\n",
       "    <tr>\n",
       "      <th>50%</th>\n",
       "      <td>365.500000</td>\n",
       "      <td>3.000000</td>\n",
       "      <td>0.500000</td>\n",
       "      <td>7.000000</td>\n",
       "      <td>0.000000</td>\n",
       "      <td>3.000000</td>\n",
       "      <td>1.000000</td>\n",
       "      <td>1.000000</td>\n",
       "      <td>20.465826</td>\n",
       "      <td>24.368225</td>\n",
       "      <td>62.625000</td>\n",
       "      <td>12.125325</td>\n",
       "      <td>717.000000</td>\n",
       "      <td>3664.500000</td>\n",
       "      <td>4548.500000</td>\n",
       "    </tr>\n",
       "    <tr>\n",
       "      <th>75%</th>\n",
       "      <td>547.750000</td>\n",
       "      <td>3.000000</td>\n",
       "      <td>1.000000</td>\n",
       "      <td>10.000000</td>\n",
       "      <td>0.000000</td>\n",
       "      <td>5.000000</td>\n",
       "      <td>1.000000</td>\n",
       "      <td>2.000000</td>\n",
       "      <td>26.880615</td>\n",
       "      <td>30.445775</td>\n",
       "      <td>72.989575</td>\n",
       "      <td>15.625589</td>\n",
       "      <td>1096.500000</td>\n",
       "      <td>4783.250000</td>\n",
       "      <td>5966.000000</td>\n",
       "    </tr>\n",
       "    <tr>\n",
       "      <th>max</th>\n",
       "      <td>730.000000</td>\n",
       "      <td>4.000000</td>\n",
       "      <td>1.000000</td>\n",
       "      <td>12.000000</td>\n",
       "      <td>1.000000</td>\n",
       "      <td>6.000000</td>\n",
       "      <td>1.000000</td>\n",
       "      <td>3.000000</td>\n",
       "      <td>35.328347</td>\n",
       "      <td>42.044800</td>\n",
       "      <td>97.250000</td>\n",
       "      <td>34.000021</td>\n",
       "      <td>3410.000000</td>\n",
       "      <td>6946.000000</td>\n",
       "      <td>8714.000000</td>\n",
       "    </tr>\n",
       "  </tbody>\n",
       "</table>\n",
       "</div>"
      ],
      "text/plain": [
       "          instant      season          yr        mnth     holiday     weekday  \\\n",
       "count  730.000000  730.000000  730.000000  730.000000  730.000000  730.000000   \n",
       "mean   365.500000    2.498630    0.500000    6.526027    0.028767    2.995890   \n",
       "std    210.877136    1.110184    0.500343    3.450215    0.167266    2.000339   \n",
       "min      1.000000    1.000000    0.000000    1.000000    0.000000    0.000000   \n",
       "25%    183.250000    2.000000    0.000000    4.000000    0.000000    1.000000   \n",
       "50%    365.500000    3.000000    0.500000    7.000000    0.000000    3.000000   \n",
       "75%    547.750000    3.000000    1.000000   10.000000    0.000000    5.000000   \n",
       "max    730.000000    4.000000    1.000000   12.000000    1.000000    6.000000   \n",
       "\n",
       "       workingday  weathersit        temp       atemp         hum   windspeed  \\\n",
       "count  730.000000  730.000000  730.000000  730.000000  730.000000  730.000000   \n",
       "mean     0.690411    1.394521   20.319259   23.726322   62.765175   12.763620   \n",
       "std      0.462641    0.544807    7.506729    8.150308   14.237589    5.195841   \n",
       "min      0.000000    1.000000    2.424346    3.953480    0.000000    1.500244   \n",
       "25%      0.000000    1.000000   13.811885   16.889713   52.000000    9.041650   \n",
       "50%      1.000000    1.000000   20.465826   24.368225   62.625000   12.125325   \n",
       "75%      1.000000    2.000000   26.880615   30.445775   72.989575   15.625589   \n",
       "max      1.000000    3.000000   35.328347   42.044800   97.250000   34.000021   \n",
       "\n",
       "            casual   registered          cnt  \n",
       "count   730.000000   730.000000   730.000000  \n",
       "mean    849.249315  3658.757534  4508.006849  \n",
       "std     686.479875  1559.758728  1936.011647  \n",
       "min       2.000000    20.000000    22.000000  \n",
       "25%     316.250000  2502.250000  3169.750000  \n",
       "50%     717.000000  3664.500000  4548.500000  \n",
       "75%    1096.500000  4783.250000  5966.000000  \n",
       "max    3410.000000  6946.000000  8714.000000  "
      ]
     },
     "execution_count": 9,
     "metadata": {},
     "output_type": "execute_result"
    }
   ],
   "source": [
    "# Display statistics of the dataset.\n",
    "boombikes.describe()"
   ]
  },
  {
   "cell_type": "code",
   "execution_count": 10,
   "metadata": {},
   "outputs": [
    {
     "data": {
      "text/plain": [
       "instant       0\n",
       "dteday        0\n",
       "season        0\n",
       "yr            0\n",
       "mnth          0\n",
       "holiday       0\n",
       "weekday       0\n",
       "workingday    0\n",
       "weathersit    0\n",
       "temp          0\n",
       "atemp         0\n",
       "hum           0\n",
       "windspeed     0\n",
       "casual        0\n",
       "registered    0\n",
       "cnt           0\n",
       "dtype: int64"
      ]
     },
     "execution_count": 10,
     "metadata": {},
     "output_type": "execute_result"
    }
   ],
   "source": [
    "#Checking for null values\n",
    "\n",
    "boombikes.isnull().sum()"
   ]
  },
  {
   "cell_type": "markdown",
   "metadata": {},
   "source": [
    "#### No missing values present in the dataset"
   ]
  },
  {
   "cell_type": "code",
   "execution_count": null,
   "metadata": {},
   "outputs": [],
   "source": [
    "#ploting the pairplot to see the correlation among all the variables\n",
    "sns.pairplot(boombikes)\n",
    "plt.show()"
   ]
  },
  {
   "cell_type": "code",
   "execution_count": null,
   "metadata": {},
   "outputs": [],
   "source": [
    "boombikes.corr()"
   ]
  },
  {
   "cell_type": "markdown",
   "metadata": {},
   "source": [
    "### Dropping columns unneccesary columns which are irrelevant , redundant for the analysis or are similar to the target variable "
   ]
  },
  {
   "cell_type": "code",
   "execution_count": null,
   "metadata": {},
   "outputs": [],
   "source": [
    "#'instant' - dropping this as its irrelevant for the modelling\n",
    "#'dteday' - dropping this as its redundant and information can be obtained from yr, mnth column\n",
    "#'casual','registered' - dropping this as it is part of a target variable cnt\n",
    "\n",
    "\n",
    "boombikes = boombikes.drop(['instant','dteday','casual','registered'],axis = 1)"
   ]
  },
  {
   "cell_type": "code",
   "execution_count": null,
   "metadata": {},
   "outputs": [],
   "source": [
    "#checking the columns after dropping few features\n",
    "boombikes.columns"
   ]
  },
  {
   "cell_type": "code",
   "execution_count": null,
   "metadata": {},
   "outputs": [],
   "source": [
    "#ploting a pairplot\n",
    "\n",
    "sns.pairplot(boombikes)\n",
    "plt.show()"
   ]
  },
  {
   "cell_type": "code",
   "execution_count": null,
   "metadata": {
    "scrolled": true
   },
   "outputs": [],
   "source": [
    "#checking correlation\n",
    "\n",
    "boombikes.corr()"
   ]
  },
  {
   "cell_type": "markdown",
   "metadata": {},
   "source": [
    "#### As temp and atemp is highly correlated, so dropping one of them to avoid the multicollinearity in data"
   ]
  },
  {
   "cell_type": "code",
   "execution_count": null,
   "metadata": {},
   "outputs": [],
   "source": [
    "boombikes = boombikes.drop(['atemp'],axis = 1)"
   ]
  },
  {
   "cell_type": "code",
   "execution_count": null,
   "metadata": {},
   "outputs": [],
   "source": [
    "boombikes.columns"
   ]
  },
  {
   "cell_type": "code",
   "execution_count": null,
   "metadata": {},
   "outputs": [],
   "source": [
    "# Checking the value counts for object data type.\n",
    "l = [col for col in boombikes.columns if isinstance(col,str)]\n",
    "for i in l:\n",
    "    print(boombikes[i].value_counts(), end = '\\n\\n')\n",
    "    print('*'*50,end ='\\n\\n')"
   ]
  },
  {
   "cell_type": "code",
   "execution_count": null,
   "metadata": {},
   "outputs": [],
   "source": [
    "#Columns which are having lesser number of unique values can be considered as categorical columns .\n",
    "\n",
    "boombikes.nunique().sort_values()"
   ]
  },
  {
   "cell_type": "markdown",
   "metadata": {},
   "source": [
    "##### Categorical columns needed to be converted to object data type\n",
    "<pre>\n",
    "Column name                   dtype     count <br>\n",
    "***********                   *****     *****\n",
    "yr\t                        int64\t  2 <br>\n",
    "holiday                 \t  int64\t  2 <br>\n",
    "workingday      \t          int64\t  2<br>\n",
    "weathersit      \t          int64\t  3<br>\n",
    "season                        int64\t  4<br>\n",
    "weekday         \t          int64      7<br>\n",
    "mnth           \t           int64\t  12<br>\n",
    "</pre>"
   ]
  },
  {
   "cell_type": "code",
   "execution_count": null,
   "metadata": {},
   "outputs": [],
   "source": [
    "#cnverting the categorical columns to object data type\n",
    "\n",
    "boombikes.workingday = boombikes.workingday.astype('str')\n",
    "boombikes.weathersit = boombikes.weathersit.astype('str')\n",
    "boombikes.season = boombikes.season.astype('str')\n",
    "boombikes.weekday = boombikes.weekday.astype('str')\n",
    "boombikes.mnth = boombikes.mnth.astype('str')"
   ]
  },
  {
   "cell_type": "markdown",
   "metadata": {},
   "source": [
    "### Understanding data dictionary and manipulating the column values"
   ]
  },
  {
   "cell_type": "code",
   "execution_count": null,
   "metadata": {},
   "outputs": [],
   "source": [
    "boombikes.info()"
   ]
  },
  {
   "cell_type": "code",
   "execution_count": null,
   "metadata": {},
   "outputs": [],
   "source": [
    "boombikes.season.value_counts()"
   ]
  },
  {
   "cell_type": "code",
   "execution_count": null,
   "metadata": {},
   "outputs": [],
   "source": [
    "#Mapping season to the corresponding values given in dictionary\n",
    "#(1:spring, 2:summer, 3:fall, 4:winter)\n",
    "boombikes.season = boombikes.season.map({'1':'spring','2':'summer','3':'fall','4':'winter'})"
   ]
  },
  {
   "cell_type": "code",
   "execution_count": null,
   "metadata": {},
   "outputs": [],
   "source": [
    "boombikes.season.value_counts()"
   ]
  },
  {
   "cell_type": "code",
   "execution_count": null,
   "metadata": {},
   "outputs": [],
   "source": [
    "boombikes.mnth.value_counts()"
   ]
  },
  {
   "cell_type": "code",
   "execution_count": null,
   "metadata": {},
   "outputs": [],
   "source": [
    "#Mapping months to the corresponding values given in dictionary\n",
    "#month ( 1 to 12)\n",
    "boombikes.mnth = boombikes.mnth.map({'1':'jan','2':'feb','3':'march','4':'april','5':'may','6':'jun','7':'july','8':'aug','9':'sept','10':'oct','11':'nov','12':'dec'})\n"
   ]
  },
  {
   "cell_type": "code",
   "execution_count": null,
   "metadata": {},
   "outputs": [],
   "source": [
    "boombikes.mnth.value_counts()"
   ]
  },
  {
   "cell_type": "code",
   "execution_count": null,
   "metadata": {},
   "outputs": [],
   "source": [
    "#Mapping weekday to the corresponding values given in dictionary\n",
    "#weekday : day of the week\n",
    "\n",
    "boombikes.weekday = boombikes.weekday.map({'0':'sun','1':'mon','2':'tue','3':'wed','4':'thurs','5':'fri','6':'sat'})\n"
   ]
  },
  {
   "cell_type": "code",
   "execution_count": null,
   "metadata": {},
   "outputs": [],
   "source": [
    "boombikes.weekday.value_counts()"
   ]
  },
  {
   "cell_type": "code",
   "execution_count": null,
   "metadata": {},
   "outputs": [],
   "source": [
    "#Mapping weathersit to the corresponding values given in dictionary\n",
    "#weathersit : \n",
    "#\t\t- 1: Clear, Few clouds, Partly cloudy, Partly cloudy\n",
    "#\t\t- 2: Mist + Cloudy, Mist + Broken clouds, Mist + Few clouds, Mist\n",
    "#\t\t- 3: Light Snow, Light Rain + Thunderstorm + Scattered clouds, Light Rain + Scattered clouds\n",
    "#\t\t- 4: Heavy Rain + Ice Pallets + Thunderstorm + Mist, Snow + Fog\n",
    "\n",
    "boombikes.weathersit = boombikes.weathersit.map({'1':'clear','2':'mist','3':'light snow','4':'heavy rain'})"
   ]
  },
  {
   "cell_type": "code",
   "execution_count": null,
   "metadata": {},
   "outputs": [],
   "source": [
    "boombikes.weathersit.value_counts()"
   ]
  },
  {
   "cell_type": "markdown",
   "metadata": {},
   "source": [
    "### Data Visualisation\n",
    "Checking outliers for different numeric columns"
   ]
  },
  {
   "cell_type": "code",
   "execution_count": null,
   "metadata": {
    "scrolled": true
   },
   "outputs": [],
   "source": [
    "# Finding the presence of outliers in various columns\n",
    "plt.figure(figsize=[8,1])\n",
    "sns.boxplot(boombikes.temp)\n",
    "plt.show()"
   ]
  },
  {
   "cell_type": "markdown",
   "metadata": {},
   "source": [
    "No outliers found in the temperature feature"
   ]
  },
  {
   "cell_type": "code",
   "execution_count": null,
   "metadata": {
    "scrolled": true
   },
   "outputs": [],
   "source": [
    "sns.set(style=\"whitegrid\")\n",
    "plt.figure(figsize=(15,5))\n",
    "plt.title(\"Temperature\")\n",
    "plt.ylabel(\"Frequency\")\n",
    "sns.distplot(boombikes.temp, bins=10, rug=True)"
   ]
  },
  {
   "cell_type": "markdown",
   "metadata": {},
   "source": [
    "We can see in the plot that temperature is bimodal and having two clusters may be summer and winter."
   ]
  },
  {
   "cell_type": "code",
   "execution_count": null,
   "metadata": {
    "scrolled": true
   },
   "outputs": [],
   "source": [
    "plt.figure(figsize=[8,1])\n",
    "sns.boxplot(boombikes.hum)\n",
    "plt.show()"
   ]
  },
  {
   "cell_type": "markdown",
   "metadata": {},
   "source": [
    "Outliers found which are having values around ero and 20"
   ]
  },
  {
   "cell_type": "code",
   "execution_count": null,
   "metadata": {
    "scrolled": true
   },
   "outputs": [],
   "source": [
    "sns.set(style=\"whitegrid\")\n",
    "plt.figure(figsize=(15,5))\n",
    "plt.title(\"Himidity\")\n",
    "plt.ylabel(\"Frequency\")\n",
    "sns.distplot(boombikes.hum, bins=10, rug=True)"
   ]
  },
  {
   "cell_type": "markdown",
   "metadata": {},
   "source": [
    "We can see in the boxplot and distplot above, most of the values for humidity lie between approax 25 and 98. The rest of them are outliers which lies between 0 and 20 so the dta is left skewed, Various transformations can be performed to overcome this."
   ]
  },
  {
   "cell_type": "code",
   "execution_count": null,
   "metadata": {
    "scrolled": false
   },
   "outputs": [],
   "source": [
    "plt.figure(figsize=[8,1])\n",
    "sns.boxplot(boombikes.windspeed)\n",
    "plt.show()"
   ]
  },
  {
   "cell_type": "markdown",
   "metadata": {},
   "source": [
    "We can see in the boxplot above, most of the values for windspeed lie between approax 2 and 26. The rest of them are outliers which lies after 25."
   ]
  },
  {
   "cell_type": "code",
   "execution_count": null,
   "metadata": {
    "scrolled": true
   },
   "outputs": [],
   "source": [
    "sns.set(style=\"whitegrid\")\n",
    "plt.figure(figsize=(15,5))\n",
    "plt.title(\"windspeed\")\n",
    "plt.ylabel(\"Frequency\")\n",
    "sns.distplot(boombikes.windspeed, bins=10, rug=True)"
   ]
  },
  {
   "cell_type": "markdown",
   "metadata": {},
   "source": [
    "We can see in the above distplot that it is left skewed and we can use log/power transformations to improve our model accuracy"
   ]
  },
  {
   "cell_type": "code",
   "execution_count": null,
   "metadata": {
    "scrolled": true
   },
   "outputs": [],
   "source": [
    "plt.figure(figsize=[8,1])\n",
    "sns.boxplot(boombikes.cnt)\n",
    "plt.show()"
   ]
  },
  {
   "cell_type": "markdown",
   "metadata": {},
   "source": [
    "No outliers found"
   ]
  },
  {
   "cell_type": "code",
   "execution_count": null,
   "metadata": {
    "scrolled": true
   },
   "outputs": [],
   "source": [
    "# Plotting the count of Month against the various values present. \n",
    "\n",
    "sns.countplot(y = boombikes.mnth, data = boombikes)\n",
    "plt.show()"
   ]
  },
  {
   "cell_type": "markdown",
   "metadata": {},
   "source": [
    "Higher values are for Jan, Dec, March, May, July, August and Oct"
   ]
  },
  {
   "cell_type": "code",
   "execution_count": null,
   "metadata": {},
   "outputs": [],
   "source": [
    "# Plotting the count of weathersit against the various values present.\n",
    "\n",
    "sns.countplot(y = boombikes.weathersit, data = boombikes)\n",
    "plt.show()"
   ]
  },
  {
   "cell_type": "markdown",
   "metadata": {},
   "source": [
    "Hishest count is for clear weather"
   ]
  },
  {
   "cell_type": "code",
   "execution_count": null,
   "metadata": {
    "scrolled": true
   },
   "outputs": [],
   "source": [
    "# Plotting the count of season against the various values present.\n",
    "\n",
    "sns.countplot(y = boombikes.season, data = boombikes)\n",
    "plt.show()"
   ]
  },
  {
   "cell_type": "markdown",
   "metadata": {},
   "source": [
    "Highest count is on fall season while lowest is on winter"
   ]
  },
  {
   "cell_type": "code",
   "execution_count": null,
   "metadata": {
    "scrolled": true
   },
   "outputs": [],
   "source": [
    "# Plotting the count of weekday against the various values present.\n",
    "\n",
    "\n",
    "\n",
    "sns.set(style=\"whitegrid\")\n",
    "plt.figure(figsize=(10,5))\n",
    "plt.title(\"Weekday\")\n",
    "chart2 = sns.countplot(x= boombikes.weekday, data=boombikes)\n",
    "plt.xticks(rotation=90)"
   ]
  },
  {
   "cell_type": "markdown",
   "metadata": {},
   "source": [
    "All the weekday has almost similar count"
   ]
  },
  {
   "cell_type": "code",
   "execution_count": null,
   "metadata": {},
   "outputs": [],
   "source": [
    "plt.figure(figsize = (20,10))\n",
    "\n",
    "ax = plt.axes()\n",
    "sns.heatmap(boombikes.corr(),annot = True, linewidth = 0.5,cmap = \"RdYlGn\")\n",
    "ax.set_title(\"Correlation for data\", fontsize =20)\n",
    "plt.show()"
   ]
  },
  {
   "cell_type": "markdown",
   "metadata": {},
   "source": [
    "### The heatmap shows some useful insights:\n",
    "\n",
    "#### Correlation of target variable with independent variable\n",
    "\n",
    "\n",
    "- There is a negative correlation between windspeed and the cnt. More the windspeed is lesser the demand is.\n",
    "\n",
    "- There is a positive correlation between temp and the cnt. More the temperature is higher the demand is.\n",
    "\n",
    "#### Correlation among independent variable\n",
    "\n",
    "- Similar trend of negative correlation is seen between windspeed and humidity i.e. its less humid on a windy day as they are negatively correlated."
   ]
  },
  {
   "cell_type": "code",
   "execution_count": null,
   "metadata": {},
   "outputs": [],
   "source": [
    "boombikes.columns"
   ]
  },
  {
   "cell_type": "code",
   "execution_count": null,
   "metadata": {},
   "outputs": [],
   "source": [
    "plt.style.use(\"seaborn-poster\")\n",
    "plt.figure(figsize=(18,5))\n",
    "plt.subplot(1,2,1)\n",
    "plt.title(\"season~weathersit\")\n",
    "chart1 = sns.countplot(x = boombikes.season ,hue = boombikes.weathersit, data=boombikes)\n",
    "chart1.legend(loc='right', bbox_to_anchor=(-0.15, 0.75), ncol=1)"
   ]
  },
  {
   "cell_type": "markdown",
   "metadata": {},
   "source": [
    "Clear weather has the highest count across all seasons and light snow weather has the lowest count across all seasons"
   ]
  },
  {
   "cell_type": "code",
   "execution_count": null,
   "metadata": {},
   "outputs": [],
   "source": [
    "plt.style.use(\"seaborn-poster\")\n",
    "plt.figure(figsize=(18,5))\n",
    "plt.subplot(1,2,1)\n",
    "plt.title(\"month~season\")\n",
    "chart1 = sns.countplot(x = boombikes.mnth ,hue = boombikes.season, data=boombikes)\n",
    "chart1.set_xticklabels(chart1.get_xticklabels(), rotation=45)\n",
    "chart1.legend(loc='right', bbox_to_anchor=(-0.15, 0.75), ncol=1)"
   ]
  },
  {
   "cell_type": "code",
   "execution_count": null,
   "metadata": {
    "scrolled": true
   },
   "outputs": [],
   "source": [
    "plt.style.use(\"bmh\")\n",
    "plt.figure(figsize=(15,5))\n",
    "plt.subplot(1,4,1)\n",
    "plt.title(\"Weathersit ~ Demand\")\n",
    "sns.boxplot(y = boombikes.cnt   ,x = boombikes.weathersit, data = boombikes)\n",
    "plt.xlabel(\"Weathersit\")\n",
    "\n",
    "\n",
    "\n",
    "plt.subplot(1,4,2)\n",
    "plt.title(\"Season ~ Demand\")\n",
    "sns.boxplot(y = boombikes.cnt   ,x = boombikes.season, data = boombikes)\n",
    "plt.xlabel(\"Season\")\n",
    "plt.xticks(rotation=90)\n",
    "\n",
    "\n",
    "plt.subplot(1,4,3)\n",
    "plt.title(\"Weekday ~ Demand\")\n",
    "sns.boxplot(y = boombikes.cnt   ,x = boombikes.weekday, data = boombikes)\n",
    "plt.xlabel(\"Weekday\")\n",
    "plt.xticks(rotation=90)\n",
    "  \n",
    "    \n",
    "\n",
    "plt.subplot(1,4,4)\n",
    "plt.title(\"Holiday ~ Demand\")\n",
    "sns.boxplot(y = boombikes.cnt   ,x = boombikes.holiday, data = boombikes)\n",
    "plt.xlabel(\"Holiday\")\n",
    "  "
   ]
  },
  {
   "cell_type": "markdown",
   "metadata": {},
   "source": [
    "- In clear weather the demand is highest and in snow its lowest\n",
    "- The demand is highest in fall season and also the demand is more on non holiday days"
   ]
  },
  {
   "cell_type": "code",
   "execution_count": null,
   "metadata": {
    "scrolled": true
   },
   "outputs": [],
   "source": [
    "# Box plot between mnth and cnt\n",
    "\n",
    "plt.subplot(2,2,1)\n",
    "plt.title('Box Plot between mnth and cnt')\n",
    "sns.boxplot(x=boombikes.mnth, y=boombikes.cnt, data=boombikes)\n",
    "plt.xticks(rotation=90)\n",
    "\n",
    "plt.subplot(2,2,2)\n",
    "plt.title('Box Plot between mnth and temp')\n",
    "sns.boxplot(x=boombikes.weathersit, y=boombikes.temp, data=boombikes)\n",
    "\n",
    "\n",
    "\n",
    "plt.subplot(2,2,3)\n",
    "plt.title('Box Plot between season and temp',y=-0.3)\n",
    "sns.boxplot(x=boombikes.season, y=boombikes.temp, data=boombikes)\n",
    "\n",
    "\n",
    "plt.subplot(2,2,4)\n",
    "plt.title('Box Plot between yr and cnt',y=-0.3)\n",
    "sns.boxplot(x=boombikes.yr, y=boombikes.cnt, data=boombikes)\n",
    "plt.show()\n",
    "\n"
   ]
  },
  {
   "cell_type": "markdown",
   "metadata": {},
   "source": [
    " - The demand is more in the middle of the year\n",
    " - The demand has significantly increased in year 2019 as compared to 2019"
   ]
  },
  {
   "cell_type": "code",
   "execution_count": null,
   "metadata": {},
   "outputs": [],
   "source": [
    "# Plotting CNT against temp\n",
    "\n",
    "\n",
    "plt.style.use(\"seaborn-dark-palette\")\n",
    "plt.figure(figsize=(10,5))\n",
    "plt.subplot(1,3,1)\n",
    "plt.title(\"Cnt ~ temp\")\n",
    "plt.scatter(boombikes.temp ,boombikes.cnt)\n",
    "plt.xlabel(\"Temperature\")\n",
    "plt.ylabel(\"Demand\")\n",
    "\n",
    "\n",
    "plt.subplot(1,3,2)\n",
    "plt.title(\"Cnt ~ windspeed\")\n",
    "plt.scatter(boombikes.windspeed,boombikes.cnt )\n",
    "plt.xlabel(\"Windspeed\")\n",
    "\n",
    "plt.subplot(1,3,3)\n",
    "plt.title(\"Cnt ~ hum\")\n",
    "plt.scatter(boombikes.hum,boombikes.cnt )\n",
    "plt.xlabel(\"Humidity\")\n",
    "plt.show()"
   ]
  },
  {
   "cell_type": "markdown",
   "metadata": {},
   "source": [
    "- Demand is positively related to temepature while demand is negatively related with windspeed and humidity\n"
   ]
  },
  {
   "cell_type": "markdown",
   "metadata": {},
   "source": [
    "## Data Preparation\n",
    "#### Dummifying the nominal categorical columns which are not binary and dropping the first column of the dummy variable to avoid the dummy variable trap"
   ]
  },
  {
   "cell_type": "code",
   "execution_count": null,
   "metadata": {},
   "outputs": [],
   "source": [
    "boombikes = pd.get_dummies(boombikes, columns =['weekday','weathersit','season','mnth'],drop_first = 'True')\n",
    "boombikes.head()"
   ]
  },
  {
   "cell_type": "code",
   "execution_count": null,
   "metadata": {},
   "outputs": [],
   "source": [
    "boombikes.columns"
   ]
  },
  {
   "cell_type": "markdown",
   "metadata": {},
   "source": [
    "## Model Building and Evaluation"
   ]
  },
  {
   "cell_type": "code",
   "execution_count": null,
   "metadata": {},
   "outputs": [],
   "source": [
    "#importing required libraries\n",
    "\n",
    "import sklearn\n",
    "from sklearn.model_selection import train_test_split\n",
    "from sklearn.preprocessing import MinMaxScaler"
   ]
  },
  {
   "cell_type": "markdown",
   "metadata": {},
   "source": [
    "### Dividing the data into test and train"
   ]
  },
  {
   "cell_type": "code",
   "execution_count": null,
   "metadata": {},
   "outputs": [],
   "source": [
    "boombikes_train, boombikes_test = train_test_split(boombikes,train_size = 0.7,random_state=100)"
   ]
  },
  {
   "cell_type": "code",
   "execution_count": null,
   "metadata": {},
   "outputs": [],
   "source": [
    "boombikes_train.shape"
   ]
  },
  {
   "cell_type": "code",
   "execution_count": null,
   "metadata": {
    "scrolled": true
   },
   "outputs": [],
   "source": [
    "boombikes_train.head()"
   ]
  },
  {
   "cell_type": "code",
   "execution_count": null,
   "metadata": {},
   "outputs": [],
   "source": [
    "boombikes_test.shape"
   ]
  },
  {
   "cell_type": "markdown",
   "metadata": {},
   "source": [
    "### Scaling\n",
    "After splitting the data into train and test in 70:30 ratio, we scale the numeric variables of train dataset for better interpretability and faster convergence of gradient descent"
   ]
  },
  {
   "cell_type": "code",
   "execution_count": null,
   "metadata": {},
   "outputs": [],
   "source": [
    "boombikes_train.describe()"
   ]
  },
  {
   "cell_type": "code",
   "execution_count": null,
   "metadata": {},
   "outputs": [],
   "source": [
    "scaler = MinMaxScaler()\n",
    "numerical_variable = ['temp','hum','windspeed','cnt']"
   ]
  },
  {
   "cell_type": "code",
   "execution_count": null,
   "metadata": {},
   "outputs": [],
   "source": [
    "boombikes_train[numerical_variable] = scaler.fit_transform(boombikes_train[numerical_variable])"
   ]
  },
  {
   "cell_type": "code",
   "execution_count": null,
   "metadata": {},
   "outputs": [],
   "source": [
    "boombikes_train.head()"
   ]
  },
  {
   "cell_type": "code",
   "execution_count": null,
   "metadata": {},
   "outputs": [],
   "source": [
    "boombikes_train.describe()"
   ]
  },
  {
   "cell_type": "markdown",
   "metadata": {},
   "source": [
    "### Data Modelling and Evaluation"
   ]
  },
  {
   "cell_type": "code",
   "execution_count": null,
   "metadata": {},
   "outputs": [],
   "source": [
    "y_boombikes_train = boombikes_train.pop('cnt')\n",
    "y_boombikes_train.head()"
   ]
  },
  {
   "cell_type": "code",
   "execution_count": null,
   "metadata": {},
   "outputs": [],
   "source": [
    "X_boombikes_train = boombikes_train\n",
    "X_boombikes_train.head()"
   ]
  },
  {
   "cell_type": "code",
   "execution_count": null,
   "metadata": {},
   "outputs": [],
   "source": [
    "y_boombikes_train.dtype"
   ]
  },
  {
   "cell_type": "markdown",
   "metadata": {},
   "source": [
    "### Model building using RFE\n",
    "\n",
    "As we have 28 columns in total, we can build model using RFE to select features.We can start ith 15 columns and the drop column one by one by inspecting the adjusted R-squared, R-squared, P-value and VIF. We will be using SKlearn for the the modelling after RFE"
   ]
  },
  {
   "cell_type": "code",
   "execution_count": null,
   "metadata": {},
   "outputs": [],
   "source": [
    "#Building the 1st model with RFE(Recursive Feature Elimination)\n",
    "\n",
    "from sklearn.feature_selection import RFE\n",
    "from sklearn.linear_model import LinearRegression"
   ]
  },
  {
   "cell_type": "code",
   "execution_count": null,
   "metadata": {},
   "outputs": [],
   "source": [
    "# 15 variables to be selected using RFE\n",
    "\n",
    "lm = LinearRegression()\n",
    "lm.fit(X_boombikes_train, y_boombikes_train)\n",
    "\n",
    "rfe = RFE(lm, 15)             # running RFE\n",
    "rfe = rfe.fit(X_boombikes_train, y_boombikes_train)"
   ]
  },
  {
   "cell_type": "code",
   "execution_count": null,
   "metadata": {},
   "outputs": [],
   "source": [
    "#columns which got selected\n",
    "\n",
    "list(zip(X_boombikes_train.columns, rfe.support_, rfe.ranking_))"
   ]
  },
  {
   "cell_type": "code",
   "execution_count": null,
   "metadata": {},
   "outputs": [],
   "source": [
    "#Columns where RFE support is True\n",
    "\n",
    "RFE_col = X_boombikes_train.columns[rfe.support_]\n",
    "print(RFE_col)"
   ]
  },
  {
   "cell_type": "code",
   "execution_count": null,
   "metadata": {},
   "outputs": [],
   "source": [
    "#Columns where RFE support is False\n",
    "\n",
    "not_RFE_col = X_boombikes_train.columns[~rfe.support_]\n",
    "print(not_RFE_col)"
   ]
  },
  {
   "cell_type": "code",
   "execution_count": null,
   "metadata": {},
   "outputs": [],
   "source": [
    "# lets now check the summary of the model using statsmodels\n",
    "\n",
    "import statsmodels.api as sm"
   ]
  },
  {
   "cell_type": "code",
   "execution_count": null,
   "metadata": {},
   "outputs": [],
   "source": [
    "#subset the feature selected by RFE\n",
    "X_boombikes_train_RFE = X_boombikes_train[RFE_col]\n",
    "X_boombikes_train_RFE.head()"
   ]
  },
  {
   "cell_type": "code",
   "execution_count": null,
   "metadata": {},
   "outputs": [],
   "source": [
    "#adding constant to the model\n",
    "X_boombikes_train_RFE = sm.add_constant(X_boombikes_train_RFE)\n",
    "X_boombikes_train_RFE.head()\n",
    "\n",
    "## Running the linear model \n",
    "lm = sm.OLS(y_boombikes_train.astype(float),X_boombikes_train_RFE.astype(float)).fit()\n",
    "\n",
    "print(lm.summary())"
   ]
  },
  {
   "cell_type": "markdown",
   "metadata": {},
   "source": [
    "### Lets check for multicollinearity among these variables\n",
    "\n",
    "Checking VIF\n",
    "Variance Inflation Factor or VIF, helps us in detecting associations among predictors and gives a basic quantitative idea about how well one independent variable is explained by all the other independent variables combined.The formula for calculating VIF is:\n",
    "\n",
    "VIF=1/(1−R2) ¶"
   ]
  },
  {
   "cell_type": "code",
   "execution_count": null,
   "metadata": {},
   "outputs": [],
   "source": [
    "# Calculate the VIFs for the 1st model\n",
    "\n",
    "from statsmodels.stats.outliers_influence import variance_inflation_factor\n",
    "\n",
    "\n",
    "# calculating VIF\n",
    "X_boombikes_train_RFE = X_boombikes_train_RFE.drop('const', axis=1)\n",
    "\n",
    "vif = pd.DataFrame()\n",
    "vif['Features'] = X_boombikes_train_RFE.columns\n",
    "vif['VIF'] = [variance_inflation_factor(X_boombikes_train_RFE.values, i) for i in range(X_boombikes_train_RFE.shape[1])]\n",
    "vif['VIF'] = round(vif['VIF'],2)\n",
    "vif = vif.sort_values(by = \"VIF\", ascending = False)\n",
    "vif\n"
   ]
  },
  {
   "cell_type": "markdown",
   "metadata": {},
   "source": [
    "### humidity has high VIF suggeting high multi-collinearity and can be dropped"
   ]
  },
  {
   "cell_type": "markdown",
   "metadata": {},
   "source": [
    "## 2nd model"
   ]
  },
  {
   "cell_type": "code",
   "execution_count": null,
   "metadata": {},
   "outputs": [],
   "source": [
    "#Drop mnth_dec\n",
    "X_boombikes_train_RFE = X_boombikes_train_RFE.drop([\"hum\"], axis = 1)\n",
    "X_boombikes_train_RFE.columns"
   ]
  },
  {
   "cell_type": "code",
   "execution_count": null,
   "metadata": {},
   "outputs": [],
   "source": [
    "#Rebuliding the second model without mnth_dec\n",
    "\n",
    "\n",
    "X_boombikes_train_RFE = sm.add_constant(X_boombikes_train_RFE)\n",
    "lm = sm.OLS(y_boombikes_train,X_boombikes_train_RFE).fit()\n",
    "print(lm.summary())"
   ]
  },
  {
   "cell_type": "code",
   "execution_count": null,
   "metadata": {},
   "outputs": [],
   "source": [
    "# Re - calculating VIF for 2nd model\n",
    "X_boombikes_train_RFE = X_boombikes_train_RFE.drop('const', axis=1)\n",
    "\n",
    "vif = pd.DataFrame()\n",
    "vif['Features'] = X_boombikes_train_RFE.columns\n",
    "vif['VIF'] = [variance_inflation_factor(X_boombikes_train_RFE.values, i) for i in range(X_boombikes_train_RFE.shape[1])]\n",
    "vif['VIF'] = round(vif['VIF'],2)\n",
    "vif = vif.sort_values(by = \"VIF\", ascending = False)\n",
    "vif"
   ]
  },
  {
   "cell_type": "markdown",
   "metadata": {},
   "source": [
    "#### mnth_nov could be dropped"
   ]
  },
  {
   "cell_type": "markdown",
   "metadata": {},
   "source": [
    "## 3rd model"
   ]
  },
  {
   "cell_type": "code",
   "execution_count": null,
   "metadata": {},
   "outputs": [],
   "source": [
    "#Drop mnth_nov\n",
    "X_boombikes_train_RFE = X_boombikes_train_RFE.drop([\"mnth_nov\"], axis = 1)\n",
    "X_boombikes_train_RFE.columns"
   ]
  },
  {
   "cell_type": "markdown",
   "metadata": {},
   "source": [
    "### mnth_nov is insignificant in presence of other variables due to high p-value and low VIF and can be dropped"
   ]
  },
  {
   "cell_type": "code",
   "execution_count": null,
   "metadata": {},
   "outputs": [],
   "source": [
    "#Rebuliding the model without mnth_nov - 3rd model\n",
    "\n",
    "\n",
    "X_boombikes_train_RFE = sm.add_constant(X_boombikes_train_RFE)\n",
    "lm = sm.OLS(y_boombikes_train,X_boombikes_train_RFE).fit()\n",
    "print(lm.summary())"
   ]
  },
  {
   "cell_type": "code",
   "execution_count": null,
   "metadata": {},
   "outputs": [],
   "source": [
    "# Re - calculating VIF for 3rd model \n",
    "X_boombikes_train_RFE = X_boombikes_train_RFE.drop('const', axis=1)\n",
    "\n",
    "vif = pd.DataFrame()\n",
    "vif['Features'] = X_boombikes_train_RFE.columns\n",
    "vif['VIF'] = [variance_inflation_factor(X_boombikes_train_RFE.values, i) for i in range(X_boombikes_train_RFE.shape[1])]\n",
    "vif['VIF'] = round(vif['VIF'],2)\n",
    "vif = vif.sort_values(by = \"VIF\", ascending = False)\n",
    "vif"
   ]
  },
  {
   "cell_type": "markdown",
   "metadata": {},
   "source": [
    "## 4th model"
   ]
  },
  {
   "cell_type": "markdown",
   "metadata": {},
   "source": [
    "### mnth_dec is insignificant in presence of other variables and can be dropped"
   ]
  },
  {
   "cell_type": "code",
   "execution_count": null,
   "metadata": {},
   "outputs": [],
   "source": [
    "#Drop mnth_jan\n",
    "X_boombikes_train_RFE = X_boombikes_train_RFE.drop([\"mnth_dec\"], axis = 1)\n",
    "X_boombikes_train_RFE.columns"
   ]
  },
  {
   "cell_type": "code",
   "execution_count": null,
   "metadata": {},
   "outputs": [],
   "source": [
    "#Rebuliding the model without mnth_jan - 4th model\n",
    "\n",
    "\n",
    "X_boombikes_train_RFE = sm.add_constant(X_boombikes_train_RFE)\n",
    "lm = sm.OLS(y_boombikes_train,X_boombikes_train_RFE).fit()\n",
    "print(lm.summary())"
   ]
  },
  {
   "cell_type": "code",
   "execution_count": null,
   "metadata": {},
   "outputs": [],
   "source": [
    "# Re - calculating VIF for 4th model \n",
    "X_boombikes_train_RFE = X_boombikes_train_RFE.drop('const', axis=1)\n",
    "\n",
    "vif = pd.DataFrame()\n",
    "vif['Features'] = X_boombikes_train_RFE.columns\n",
    "vif['VIF'] = [variance_inflation_factor(X_boombikes_train_RFE.values, i) for i in range(X_boombikes_train_RFE.shape[1])]\n",
    "vif['VIF'] = round(vif['VIF'],2)\n",
    "vif = vif.sort_values(by = \"VIF\", ascending = False)\n",
    "vif"
   ]
  },
  {
   "cell_type": "markdown",
   "metadata": {},
   "source": [
    "## 5th model"
   ]
  },
  {
   "cell_type": "markdown",
   "metadata": {},
   "source": [
    "### mnth_jan is insignificant in presence of other variables and can be dropped"
   ]
  },
  {
   "cell_type": "code",
   "execution_count": null,
   "metadata": {},
   "outputs": [],
   "source": [
    "#Drop season_spring\n",
    "X_boombikes_train_RFE = X_boombikes_train_RFE.drop([\"mnth_jan\"], axis = 1)\n",
    "X_boombikes_train_RFE.columns"
   ]
  },
  {
   "cell_type": "code",
   "execution_count": null,
   "metadata": {},
   "outputs": [],
   "source": [
    "#Rebuliding the model without season_spring - 5th model\n",
    "\n",
    "\n",
    "X_boombikes_train_RFE = sm.add_constant(X_boombikes_train_RFE)\n",
    "lm = sm.OLS(y_boombikes_train,X_boombikes_train_RFE).fit()\n",
    "print(lm.summary())"
   ]
  },
  {
   "cell_type": "code",
   "execution_count": null,
   "metadata": {},
   "outputs": [],
   "source": [
    "# Re - calculating VIF for 5th model \n",
    "X_boombikes_train_RFE = X_boombikes_train_RFE.drop('const', axis=1)\n",
    "\n",
    "vif = pd.DataFrame()\n",
    "vif['Features'] = X_boombikes_train_RFE.columns\n",
    "vif['VIF'] = [variance_inflation_factor(X_boombikes_train_RFE.values, i) for i in range(X_boombikes_train_RFE.shape[1])]\n",
    "vif['VIF'] = round(vif['VIF'],2)\n",
    "vif = vif.sort_values(by = \"VIF\", ascending = False)\n",
    "vif"
   ]
  },
  {
   "cell_type": "markdown",
   "metadata": {},
   "source": [
    "## 6th model"
   ]
  },
  {
   "cell_type": "markdown",
   "metadata": {},
   "source": [
    "### mnth_july is insignificant in presence of other variables and can be dropped"
   ]
  },
  {
   "cell_type": "code",
   "execution_count": null,
   "metadata": {},
   "outputs": [],
   "source": [
    "#Drop mnth_july\n",
    "X_boombikes_train_RFE = X_boombikes_train_RFE.drop([\"mnth_july\"], axis = 1)\n",
    "X_boombikes_train_RFE.columns"
   ]
  },
  {
   "cell_type": "code",
   "execution_count": null,
   "metadata": {},
   "outputs": [],
   "source": [
    "#Rebuliding the model without mnth_july - 6th model\n",
    "\n",
    "\n",
    "X_boombikes_train_RFE = sm.add_constant(X_boombikes_train_RFE)\n",
    "lm = sm.OLS(y_boombikes_train,X_boombikes_train_RFE).fit()\n",
    "print(lm.summary())"
   ]
  },
  {
   "cell_type": "code",
   "execution_count": null,
   "metadata": {},
   "outputs": [],
   "source": [
    "# Re - calculating VIF for 6th model \n",
    "X_boombikes_train_RFE = X_boombikes_train_RFE.drop('const', axis=1)\n",
    "\n",
    "vif = pd.DataFrame()\n",
    "vif['Features'] = X_boombikes_train_RFE.columns\n",
    "vif['VIF'] = [variance_inflation_factor(X_boombikes_train_RFE.values, i) for i in range(X_boombikes_train_RFE.shape[1])]\n",
    "vif['VIF'] = round(vif['VIF'],2)\n",
    "vif = vif.sort_values(by = \"VIF\", ascending = False)\n",
    "vif"
   ]
  },
  {
   "cell_type": "markdown",
   "metadata": {},
   "source": [
    "## Verifying the assumptions of Linear Regression"
   ]
  },
  {
   "cell_type": "markdown",
   "metadata": {},
   "source": [
    "### Multicollinearity\n",
    " \n",
    "WE could see above that VIF of almost all the feature are below 5 which states that there is no or very less collinearity between the features. So the assumption of no multicollinearity holds true \n",
    "in our model"
   ]
  },
  {
   "cell_type": "markdown",
   "metadata": {},
   "source": [
    "### Residual Analysis\n",
    "One of the major assumptions of linear regression is the error terms are  normally distributed. We need to plot the histogram of the error terms and verify this."
   ]
  },
  {
   "cell_type": "code",
   "execution_count": null,
   "metadata": {},
   "outputs": [],
   "source": [
    "X_boombikes_train_RFE"
   ]
  },
  {
   "cell_type": "code",
   "execution_count": null,
   "metadata": {},
   "outputs": [],
   "source": [
    "X_boombikes_train_RFE= sm.add_constant(X_boombikes_train_RFE)\n",
    "y_boombikes_train_pred = lm.predict(X_boombikes_train_RFE)\n",
    "y_boombikes_train_pred"
   ]
  },
  {
   "cell_type": "code",
   "execution_count": null,
   "metadata": {},
   "outputs": [],
   "source": [
    "residual = y_boombikes_train - y_boombikes_train_pred"
   ]
  },
  {
   "cell_type": "code",
   "execution_count": null,
   "metadata": {},
   "outputs": [],
   "source": [
    "# Ploting the histogram\n",
    "\n",
    "sns.set(style=\"whitegrid\")\n",
    "fig = plt.figure()\n",
    "plt.figure(figsize=(10,7))\n",
    "sns.distplot(residual, bins = 10)\n",
    "plt.title('Error Terms', fontsize = 20)               \n",
    "plt.xlabel('Errors', fontsize = 18)  \n",
    "plt.show()"
   ]
  },
  {
   "cell_type": "markdown",
   "metadata": {},
   "source": [
    "As the error terms is almost normally distributed and centered at zero with a bit of skewness, we could say that normality of residuals assumption holds good."
   ]
  },
  {
   "cell_type": "code",
   "execution_count": null,
   "metadata": {
    "scrolled": false
   },
   "outputs": [],
   "source": [
    "fig, ax = plt.subplots(figsize=(6,2.5))\n",
    "_, (__, ___, r) = sp.stats.probplot(residual, plot=ax, fit=True)"
   ]
  },
  {
   "cell_type": "markdown",
   "metadata": {},
   "source": [
    "If we plot a qq plot we can clearly see that most of the observed values and theoritical values falls on the same line almost. So, We can conclude that the overall distribution is near normal"
   ]
  },
  {
   "cell_type": "markdown",
   "metadata": {},
   "source": [
    "### Homoscedasticity/Constant Variance"
   ]
  },
  {
   "cell_type": "code",
   "execution_count": null,
   "metadata": {
    "scrolled": true
   },
   "outputs": [],
   "source": [
    "fig, ax = plt.subplots(figsize=(6,4))\n",
    "_ = ax.scatter(y_boombikes_train_pred, residual)"
   ]
  },
  {
   "cell_type": "markdown",
   "metadata": {},
   "source": [
    "After plotting the predictions on the x axis and the overall residual on the y axis we clearly visualize that the overall distribution is randomly sampled and there is no pattern whatsoever based on residuals and the prediction. And most of the values are centred around zero"
   ]
  },
  {
   "cell_type": "markdown",
   "metadata": {},
   "source": [
    "### No autocorrelation of residuals"
   ]
  },
  {
   "cell_type": "code",
   "execution_count": null,
   "metadata": {
    "scrolled": true
   },
   "outputs": [],
   "source": [
    "acf = smt.graphics.plot_acf(residual, lags=40 , alpha=0.05)\n",
    "acf.show()"
   ]
  },
  {
   "cell_type": "markdown",
   "metadata": {},
   "source": [
    "After plotting the auto correlation function, we could see that the residual with itself will have a heavy correlation. Most of the autocorrelation values do not cross the threshold of being significant i.e the blue border."
   ]
  },
  {
   "cell_type": "markdown",
   "metadata": {},
   "source": [
    "### Applying scaling on test data"
   ]
  },
  {
   "cell_type": "code",
   "execution_count": null,
   "metadata": {},
   "outputs": [],
   "source": [
    "boombikes_test.head()"
   ]
  },
  {
   "cell_type": "code",
   "execution_count": null,
   "metadata": {},
   "outputs": [],
   "source": [
    "boombikes_test.describe()"
   ]
  },
  {
   "cell_type": "code",
   "execution_count": null,
   "metadata": {},
   "outputs": [],
   "source": [
    "scaler = MinMaxScaler()\n",
    "boombikes_test[numerical_variable] = scaler.fit_transform(boombikes_test[numerical_variable])\n",
    "#Finding the numerical columns so that it can be scaled \n",
    "numerical_variable = ['temp','hum','windspeed','cnt']\n",
    "boombikes_test.head()"
   ]
  },
  {
   "cell_type": "code",
   "execution_count": null,
   "metadata": {},
   "outputs": [],
   "source": [
    "boombikes_test.describe()"
   ]
  },
  {
   "cell_type": "code",
   "execution_count": null,
   "metadata": {},
   "outputs": [],
   "source": [
    "y_boombikes_test = boombikes_test.pop('cnt')\n",
    "y_boombikes_test.head()"
   ]
  },
  {
   "cell_type": "code",
   "execution_count": null,
   "metadata": {},
   "outputs": [],
   "source": [
    "X_boombikes_test = boombikes_test\n",
    "X_boombikes_test.head()"
   ]
  },
  {
   "cell_type": "code",
   "execution_count": null,
   "metadata": {},
   "outputs": [],
   "source": [
    "y_boombikes_test.dtype"
   ]
  },
  {
   "cell_type": "code",
   "execution_count": null,
   "metadata": {},
   "outputs": [],
   "source": [
    "#\n",
    "X_boombikes_train_RFE.columns"
   ]
  },
  {
   "cell_type": "code",
   "execution_count": null,
   "metadata": {},
   "outputs": [],
   "source": [
    "#Creating a X_test dataframe by keeping only relevant column which were present in the final model\n",
    "\n",
    "X_boombikes_train_RFE = X_boombikes_train_RFE.drop('const', axis=1)\n",
    "X_boombikes_test = X_boombikes_test[X_boombikes_train_RFE.columns]\n",
    "X_boombikes_test.head()"
   ]
  },
  {
   "cell_type": "code",
   "execution_count": null,
   "metadata": {},
   "outputs": [],
   "source": [
    "#Adding a contant variable\n",
    "\n",
    "X_boombikes_test = sm.add_constant(X_boombikes_test)\n",
    "X_boombikes_test.head()"
   ]
  },
  {
   "cell_type": "code",
   "execution_count": null,
   "metadata": {},
   "outputs": [],
   "source": [
    "y_boombikes_test_pred = lm.predict(X_boombikes_test)\n",
    "y_boombikes_test_pred"
   ]
  },
  {
   "cell_type": "markdown",
   "metadata": {},
   "source": [
    "### Evaluating R-squared and Adjusted R-Squared for Test set"
   ]
  },
  {
   "cell_type": "code",
   "execution_count": null,
   "metadata": {},
   "outputs": [],
   "source": [
    "from sklearn.metrics import r2_score\n",
    "r2_score(y_boombikes_test,y_boombikes_test_pred)"
   ]
  },
  {
   "cell_type": "markdown",
   "metadata": {},
   "source": [
    "### Adjusted R^2\n",
    "- adj r2=1-(1-R2)*(n-1)/(n-p-1)\n",
    "\n",
    "- n =sample size , p = number of independent variables"
   ]
  },
  {
   "cell_type": "code",
   "execution_count": null,
   "metadata": {},
   "outputs": [],
   "source": [
    "Adj_r2=1-(1-0.7934980961455604)*(11-1)/(11-1-1)\n",
    "print(Adj_r2)"
   ]
  },
  {
   "cell_type": "code",
   "execution_count": null,
   "metadata": {},
   "outputs": [],
   "source": [
    "### Plotting y_boombikes_test_pred ~ y_boombikes_test\n",
    "\n",
    "fig = plt.figure()\n",
    "plt.figure(figsize=(10,5))\n",
    "sns.regplot(y_boombikes_test,y_boombikes_test_pred,scatter_kws={\"color\": \"blue\"}, line_kws={\"color\": \"red\"})\n",
    "fig.suptitle('y_test vs y_pred', fontsize=20)              \n",
    "plt.xlabel('y_test', fontsize=12)                          \n",
    "plt.ylabel('y_pred', fontsize=12)                          "
   ]
  },
  {
   "cell_type": "code",
   "execution_count": null,
   "metadata": {},
   "outputs": [],
   "source": [
    "y_boombikes_train"
   ]
  },
  {
   "cell_type": "code",
   "execution_count": null,
   "metadata": {},
   "outputs": [],
   "source": [
    "X_boombikes_train_RFE.columns"
   ]
  },
  {
   "cell_type": "markdown",
   "metadata": {},
   "source": [
    "### The final equation of our best fitted line using 10 variables is:\n",
    "\n",
    "cnt = 0.23 yr -0.09 holiday + 0.48 temp - 0.15 windspeed - 0.28 weathersit_light snow - 0.08 weathersit_mist - 0.05 season_spring + 0.06 season_summer + 0.09 season_winter + 0.09 mnth_sept\n"
   ]
  },
  {
   "cell_type": "markdown",
   "metadata": {},
   "source": [
    "### Final Result Comparison between Train model and Test:\n",
    "- Train R-squared : 0.833\n",
    "- Train Adjusted R-squared : 0.829\n",
    "- Test R-squared: 0.793\n",
    "- Test Adjusted R-squared: 0.77\n",
    "- Difference in R-squared between train and test: 0.04\n",
    "- Difference in adjusted R-squared between Train and test: 0.05\n"
   ]
  },
  {
   "cell_type": "markdown",
   "metadata": {},
   "source": [
    "## Interpretation"
   ]
  },
  {
   "cell_type": "markdown",
   "metadata": {},
   "source": [
    " - From the equation for best fitted line, We can see that temperature variable is having the highest coefficient 0.48, which means if the temperature increases by one unit the number of bike rentals increases by 0.48 units if all the other variables are kept constant.\n",
    "\n",
    "- We also see there are some variables like holiday, windspeed, weathersit_light snow, weathersit_mist and season_spring with negative coefficients, which suggests that as these independent variable increases, the dependent variable i.e. the cnt tends to decrease. \n",
    "\n",
    "\n",
    "- From the equation for best fitted line, We can see that weathersit_light snow variable is having the highest negative coefficient of -0.28, which means if the weathersit_light snow increases by one unit the number of bike rentals decreases by 0.28 units  if all the other variables are kept constant.\n",
    "\n",
    "\n",
    "- From the equation we could say that when there is one unit change in season_winter (i.e when winter season starts - value of season_winter changes from 0 to 1) count increase by 0.09.\n",
    "\n",
    "\n",
    "- Similarly for the season_summer we could say that when there is one unit change in season_summer (i.e when summer season starts - value of season_summer changes from 0 to 1) count increase by 0.06.\n",
    "\n",
    "\n",
    "- Also, for the mnth_sept we could say that when there is one unit change in mnth_sept (i.e when september month starts - value of mnth_sept changes from 0 to 1) count increase by 0.09.\n"
   ]
  },
  {
   "cell_type": "markdown",
   "metadata": {},
   "source": [
    "## Bussiness Recomendations\n",
    "\n",
    "- We can see that Boombikes is getting famous day by day as the demand increased in 2019 compared to 2018. Boombikes might be facing financial loss during the pandemic but once everything resumes, the demand may again spike up.\n",
    "\n",
    "\n",
    "- There is a positive correlation between temp & cnt and negative correlation between windspeed & cnt and hum & cnt. We could say that places with higher temperature and having low windspeed and low humidity can be targeted for increased demand.\n",
    "\n",
    "\n",
    "- When there is season change to winter or to summer, we could see a rise in the demand of rental boombikes. The company could invest more and have higher number of available bikes during this time. \n",
    "        \n",
    "\n",
    "- To increase Boombikes revenue after the pandemic, they could focus more on Summer & Winter season,  September month, Weekends, atmospheric parameters like temperature and windspeed as they have good influence on bike rentals.\n",
    "\n",
    "\n",
    "- Regarding the weathersit variable, we have got negative coefficients for Light Snow + Light Rain  and Mist + Cloudy. Seeing this pattern they could rollout some offers like offering free raincoat/umbrella to ease the customers.\n",
    "\n",
    "\n",
    "- Similar offers can be provided for other variables which are having negative coefficients and negatively correlated to bike rentals to lure more customers, hence increasing the revenue of BoomBikes."
   ]
  }
 ],
 "metadata": {
  "kernelspec": {
   "display_name": "Python 3",
   "language": "python",
   "name": "python3"
  },
  "language_info": {
   "codemirror_mode": {
    "name": "ipython",
    "version": 3
   },
   "file_extension": ".py",
   "mimetype": "text/x-python",
   "name": "python",
   "nbconvert_exporter": "python",
   "pygments_lexer": "ipython3",
   "version": "3.7.6"
  }
 },
 "nbformat": 4,
 "nbformat_minor": 4
}
